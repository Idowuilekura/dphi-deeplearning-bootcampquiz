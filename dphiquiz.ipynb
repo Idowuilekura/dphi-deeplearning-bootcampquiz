{
  "nbformat": 4,
  "nbformat_minor": 0,
  "metadata": {
    "colab": {
      "name": "dphiquiz.ipynb",
      "provenance": [],
      "toc_visible": true,
      "mount_file_id": "1UAbpXKl2uMAc9PVnB6CQmpuycH63FX3d",
      "authorship_tag": "ABX9TyMIIBAfmELlkMndkxhI9/t9",
      "include_colab_link": true
    },
    "kernelspec": {
      "name": "python3",
      "display_name": "Python 3"
    }
  },
  "cells": [
    {
      "cell_type": "markdown",
      "metadata": {
        "id": "view-in-github",
        "colab_type": "text"
      },
      "source": [
        "<a href=\"https://colab.research.google.com/github/Idowuilekura/dphi-deeplearning-bootcampquiz/blob/master/dphiquiz.ipynb\" target=\"_parent\"><img src=\"https://colab.research.google.com/assets/colab-badge.svg\" alt=\"Open In Colab\"/></a>"
      ]
    },
    {
      "cell_type": "markdown",
      "metadata": {
        "id": "3QmmccS6OKQD",
        "colab_type": "text"
      },
      "source": [
        "# BankNote prediction - Predict if a note is genuine or not\n",
        "## DPHI DEEP LEARNING BOOTCAMP QUIZ"
      ]
    },
    {
      "cell_type": "markdown",
      "metadata": {
        "id": "aPVhByaqOoMy",
        "colab_type": "text"
      },
      "source": [
        "Banknotes are one of the most important assets of a country. Some miscreants introduce fake notes which bear a resemblance to original note to create discrepancies of the money in the financial market. It is difficult for humans to tell true and fake banknotes apart especially because they have a lot of similar features.\n",
        "Motivation Despite a decrease in the use of currency due to the recent growth in the use of electronic transactions, cash transactions remain very important in the global market. Banknotes are used to carry out financial activities. To continue with smooth cash transactions, entry of forged banknotes in circulation should be preserved. There has been a drastic increase in the rate of fake notes in the market. Fake money is an imitation of the genuine notes and is created illegally for various motives. These fake notes are created in all denominations which brings the financial market of the country to a low level. The various advancements in the field of scanners and copy machines have led the miscreants to create copies of banknotes. It is difficult for human-eye to recognize a fake note because they are created with great accuracy to look alike a genuine note. Security aspects of banknotes have to be considered and security features are to be introduced to mitigate fake currency. Hence, there is a dire need in banks and ATM machines to implement a system that classifies a note as genuine or fake.\n",
        "\n",
        "[Source of Information: A research paper on Analysis of Banknote Authentication System using Machine Learning Techniques by Sumeet Shahani, Aisa Jagiasi and Priya RL at International J#ournal of Computer Applications (0975 – 8887) Volume 179 – No.20, February 2018]"
      ]
    },
    {
      "cell_type": "markdown",
      "metadata": {
        "id": "ykp0dMFCP3hi",
        "colab_type": "text"
      },
      "source": [
        "#About the Data\n",
        "Data were extracted from images that were taken for the evaluation of an authentication procedure for banknotes. Data were extracted from images that were taken from genuine and forged banknote-like specimens. For digitization, an industrial camera usually used for print inspection was used. The final images have 400x 400 pixels. Due to the object lens and distance to the investigated object grey-scale pictures with a resolution of about 660 dpi were gained. Wavelet Transform tool was used to extract features from images.\n"
      ]
    },
    {
      "cell_type": "code",
      "metadata": {
        "id": "fCR3k5BiZrxp",
        "colab_type": "code",
        "colab": {}
      },
      "source": [
        "#importing the necessary libararies for manipulation and preprocessing\n",
        "import numpy as np\n",
        "import pandas as pd\n",
        "import tensorflow as tf\n",
        "import tensorflow\n",
        "import matplotlib.pyplot as plt\n",
        "%matplotlib inline"
      ],
      "execution_count": 22,
      "outputs": []
    },
    {
      "cell_type": "code",
      "metadata": {
        "id": "wG8GDnNzZ8NG",
        "colab_type": "code",
        "colab": {}
      },
      "source": [
        "#loading the train data\n",
        "bank_note_data = pd.read_csv(\"https://raw.githubusercontent.com/dphi-official/Datasets/master/bank_note_data/training_set_label.csv\")"
      ],
      "execution_count": 23,
      "outputs": []
    },
    {
      "cell_type": "code",
      "metadata": {
        "id": "ASqqzh0WaSru",
        "colab_type": "code",
        "colab": {}
      },
      "source": [
        "#loading the test data\n",
        "test_data = pd.read_csv(\"https://raw.githubusercontent.com/dphi-official/Datasets/master/bank_note_data/testing_set_label.csv\")"
      ],
      "execution_count": 24,
      "outputs": []
    },
    {
      "cell_type": "markdown",
      "metadata": {
        "id": "753roskKaesk",
        "colab_type": "text"
      },
      "source": [
        "## Dataset feature description\n",
        "- VWTI: Variance of Wavelet Transformed Image\n",
        "- SWTI: Skewness of Wavelet Transformed Image\n",
        "- CWTI: Curtosis of Wavelet Transformed Image\n",
        "- EI: Entropy of Image\n",
        "- Class: Class (1: genuine, 0: forged)"
      ]
    },
    {
      "cell_type": "code",
      "metadata": {
        "id": "HVimJNFjaeDF",
        "colab_type": "code",
        "colab": {
          "base_uri": "https://localhost:8080/",
          "height": 191
        },
        "outputId": "b4cd7fb2-fda5-4d06-ad11-f212f5975f5a"
      },
      "source": [
        "bank_note_data.head() #miniexploration"
      ],
      "execution_count": 25,
      "outputs": [
        {
          "output_type": "execute_result",
          "data": {
            "text/html": [
              "<div>\n",
              "<style scoped>\n",
              "    .dataframe tbody tr th:only-of-type {\n",
              "        vertical-align: middle;\n",
              "    }\n",
              "\n",
              "    .dataframe tbody tr th {\n",
              "        vertical-align: top;\n",
              "    }\n",
              "\n",
              "    .dataframe thead th {\n",
              "        text-align: right;\n",
              "    }\n",
              "</style>\n",
              "<table border=\"1\" class=\"dataframe\">\n",
              "  <thead>\n",
              "    <tr style=\"text-align: right;\">\n",
              "      <th></th>\n",
              "      <th>VWTI</th>\n",
              "      <th>SWTI</th>\n",
              "      <th>CWTI</th>\n",
              "      <th>EI</th>\n",
              "      <th>Class</th>\n",
              "    </tr>\n",
              "  </thead>\n",
              "  <tbody>\n",
              "    <tr>\n",
              "      <th>0</th>\n",
              "      <td>2.2634</td>\n",
              "      <td>-4.4862</td>\n",
              "      <td>3.6558</td>\n",
              "      <td>-0.612510</td>\n",
              "      <td>0</td>\n",
              "    </tr>\n",
              "    <tr>\n",
              "      <th>1</th>\n",
              "      <td>3.2718</td>\n",
              "      <td>1.7837</td>\n",
              "      <td>2.1161</td>\n",
              "      <td>0.613340</td>\n",
              "      <td>0</td>\n",
              "    </tr>\n",
              "    <tr>\n",
              "      <th>2</th>\n",
              "      <td>-3.9411</td>\n",
              "      <td>-12.8792</td>\n",
              "      <td>13.0597</td>\n",
              "      <td>-3.312500</td>\n",
              "      <td>1</td>\n",
              "    </tr>\n",
              "    <tr>\n",
              "      <th>3</th>\n",
              "      <td>0.5195</td>\n",
              "      <td>-3.2633</td>\n",
              "      <td>3.0895</td>\n",
              "      <td>-0.984900</td>\n",
              "      <td>0</td>\n",
              "    </tr>\n",
              "    <tr>\n",
              "      <th>4</th>\n",
              "      <td>2.5698</td>\n",
              "      <td>-4.4076</td>\n",
              "      <td>5.9856</td>\n",
              "      <td>0.078002</td>\n",
              "      <td>0</td>\n",
              "    </tr>\n",
              "  </tbody>\n",
              "</table>\n",
              "</div>"
            ],
            "text/plain": [
              "     VWTI     SWTI     CWTI        EI  Class\n",
              "0  2.2634  -4.4862   3.6558 -0.612510      0\n",
              "1  3.2718   1.7837   2.1161  0.613340      0\n",
              "2 -3.9411 -12.8792  13.0597 -3.312500      1\n",
              "3  0.5195  -3.2633   3.0895 -0.984900      0\n",
              "4  2.5698  -4.4076   5.9856  0.078002      0"
            ]
          },
          "metadata": {
            "tags": []
          },
          "execution_count": 25
        }
      ]
    },
    {
      "cell_type": "code",
      "metadata": {
        "id": "4kHCUd9MashM",
        "colab_type": "code",
        "colab": {}
      },
      "source": [
        "#scaling our data with robustscaler\n",
        "from sklearn.preprocessing import RobustScaler\n",
        "robust_scaler = RobustScaler()\n",
        "columns = list(bank_note_data.columns)\n",
        "for col in columns:\n",
        "  if col !=\"Class\":\n",
        "    bank_note_data[col] = robust_scaler.fit_transform(bank_note_data[[col]])\n"
      ],
      "execution_count": 5,
      "outputs": []
    },
    {
      "cell_type": "code",
      "metadata": {
        "id": "RWHmkjyCnOaR",
        "colab_type": "code",
        "colab": {}
      },
      "source": [
        "from sklearn.preprocessing import RobustScaler\n",
        "robust_scaler = RobustScaler()\n",
        "columns = list(test_data.columns)\n",
        "for col in columns:\n",
        "  test_data[col] = robust_scaler.fit_transform(test_data[[col]])"
      ],
      "execution_count": 6,
      "outputs": []
    },
    {
      "cell_type": "code",
      "metadata": {
        "id": "ggPXIcVdb26f",
        "colab_type": "code",
        "colab": {
          "base_uri": "https://localhost:8080/",
          "height": 191
        },
        "outputId": "1a7dea2d-0b96-4bf6-dab3-154a1e5384f7"
      },
      "source": [
        "#after scaling\n",
        "bank_note_data.head()"
      ],
      "execution_count": 27,
      "outputs": [
        {
          "output_type": "execute_result",
          "data": {
            "text/html": [
              "<div>\n",
              "<style scoped>\n",
              "    .dataframe tbody tr th:only-of-type {\n",
              "        vertical-align: middle;\n",
              "    }\n",
              "\n",
              "    .dataframe tbody tr th {\n",
              "        vertical-align: top;\n",
              "    }\n",
              "\n",
              "    .dataframe thead th {\n",
              "        text-align: right;\n",
              "    }\n",
              "</style>\n",
              "<table border=\"1\" class=\"dataframe\">\n",
              "  <thead>\n",
              "    <tr style=\"text-align: right;\">\n",
              "      <th></th>\n",
              "      <th>VWTI</th>\n",
              "      <th>SWTI</th>\n",
              "      <th>CWTI</th>\n",
              "      <th>EI</th>\n",
              "      <th>Class</th>\n",
              "    </tr>\n",
              "  </thead>\n",
              "  <tbody>\n",
              "    <tr>\n",
              "      <th>0</th>\n",
              "      <td>2.2634</td>\n",
              "      <td>-4.4862</td>\n",
              "      <td>3.6558</td>\n",
              "      <td>-0.612510</td>\n",
              "      <td>0</td>\n",
              "    </tr>\n",
              "    <tr>\n",
              "      <th>1</th>\n",
              "      <td>3.2718</td>\n",
              "      <td>1.7837</td>\n",
              "      <td>2.1161</td>\n",
              "      <td>0.613340</td>\n",
              "      <td>0</td>\n",
              "    </tr>\n",
              "    <tr>\n",
              "      <th>2</th>\n",
              "      <td>-3.9411</td>\n",
              "      <td>-12.8792</td>\n",
              "      <td>13.0597</td>\n",
              "      <td>-3.312500</td>\n",
              "      <td>1</td>\n",
              "    </tr>\n",
              "    <tr>\n",
              "      <th>3</th>\n",
              "      <td>0.5195</td>\n",
              "      <td>-3.2633</td>\n",
              "      <td>3.0895</td>\n",
              "      <td>-0.984900</td>\n",
              "      <td>0</td>\n",
              "    </tr>\n",
              "    <tr>\n",
              "      <th>4</th>\n",
              "      <td>2.5698</td>\n",
              "      <td>-4.4076</td>\n",
              "      <td>5.9856</td>\n",
              "      <td>0.078002</td>\n",
              "      <td>0</td>\n",
              "    </tr>\n",
              "  </tbody>\n",
              "</table>\n",
              "</div>"
            ],
            "text/plain": [
              "     VWTI     SWTI     CWTI        EI  Class\n",
              "0  2.2634  -4.4862   3.6558 -0.612510      0\n",
              "1  3.2718   1.7837   2.1161  0.613340      0\n",
              "2 -3.9411 -12.8792  13.0597 -3.312500      1\n",
              "3  0.5195  -3.2633   3.0895 -0.984900      0\n",
              "4  2.5698  -4.4076   5.9856  0.078002      0"
            ]
          },
          "metadata": {
            "tags": []
          },
          "execution_count": 27
        }
      ]
    },
    {
      "cell_type": "code",
      "metadata": {
        "id": "8tSyvxocb_nf",
        "colab_type": "code",
        "colab": {
          "base_uri": "https://localhost:8080/",
          "height": 66
        },
        "outputId": "c9579f04-ee63-4bff-b86f-5067c7172a5a"
      },
      "source": [
        "#checking the value counts of our \n",
        "#target value in the train set\n",
        "bank_note_data.Class.value_counts(normalize=True)"
      ],
      "execution_count": 26,
      "outputs": [
        {
          "output_type": "execute_result",
          "data": {
            "text/plain": [
              "0    0.554745\n",
              "1    0.445255\n",
              "Name: Class, dtype: float64"
            ]
          },
          "metadata": {
            "tags": []
          },
          "execution_count": 26
        }
      ]
    },
    {
      "cell_type": "code",
      "metadata": {
        "id": "iO7f1saScIg2",
        "colab_type": "code",
        "colab": {}
      },
      "source": [
        "\"\"\" We will be using the sequential model in keras,\n",
        "with dense layer and our optimizer will be adam\"\"\"\n",
        "from tensorflow.keras import Sequential\n",
        "from tensorflow.keras.layers import Dense\n",
        "from tensorflow.keras.optimizers import Adam\n"
      ],
      "execution_count": 31,
      "outputs": []
    },
    {
      "cell_type": "code",
      "metadata": {
        "id": "sF3SxBfxcl2X",
        "colab_type": "code",
        "colab": {}
      },
      "source": [
        "adam = Adam()"
      ],
      "execution_count": 29,
      "outputs": []
    },
    {
      "cell_type": "code",
      "metadata": {
        "id": "M5ayZrC3cr4f",
        "colab_type": "code",
        "colab": {}
      },
      "source": [
        "#defining the model\n",
        "model = Sequential([Dense(300,activation='relu',input_shape=(4,)),Dense(200,activation='relu'),Dense(100,activation='relu'),Dense(1,activation='sigmoid')])"
      ],
      "execution_count": 32,
      "outputs": []
    },
    {
      "cell_type": "code",
      "metadata": {
        "id": "9gD1Tyn_dYf8",
        "colab_type": "code",
        "colab": {}
      },
      "source": [
        "#compiling the model\n",
        "model.compile(optimizer=adam,loss='binary_crossentropy',metrics=['accuracy'])"
      ],
      "execution_count": 33,
      "outputs": []
    },
    {
      "cell_type": "code",
      "metadata": {
        "id": "rlvCJkmRduzI",
        "colab_type": "code",
        "colab": {}
      },
      "source": [
        "#dropping our target variable from the train set\n",
        "#and isolating the target into y\n",
        "x = bank_note_data.drop('Class',axis=1)\n",
        "y= bank_note_data['Class']"
      ],
      "execution_count": 34,
      "outputs": []
    },
    {
      "cell_type": "code",
      "metadata": {
        "id": "0tmbmuugd5FW",
        "colab_type": "code",
        "colab": {
          "base_uri": "https://localhost:8080/",
          "height": 1000
        },
        "outputId": "450e41da-a1dc-4a91-f41b-0304741384cc"
      },
      "source": [
        "#fitting/training the model on training set\n",
        "model.fit(x,y,batch_size=30,epochs=150)"
      ],
      "execution_count": 35,
      "outputs": [
        {
          "output_type": "stream",
          "text": [
            "Epoch 1/150\n",
            "37/37 [==============================] - 0s 3ms/step - loss: 0.1391 - accuracy: 0.9480\n",
            "Epoch 2/150\n",
            "37/37 [==============================] - 0s 2ms/step - loss: 0.0108 - accuracy: 0.9991\n",
            "Epoch 3/150\n",
            "37/37 [==============================] - 0s 2ms/step - loss: 0.0211 - accuracy: 0.9918\n",
            "Epoch 4/150\n",
            "37/37 [==============================] - 0s 2ms/step - loss: 0.0020 - accuracy: 1.0000\n",
            "Epoch 5/150\n",
            "37/37 [==============================] - 0s 2ms/step - loss: 8.8276e-04 - accuracy: 1.0000\n",
            "Epoch 6/150\n",
            "37/37 [==============================] - 0s 2ms/step - loss: 5.3901e-04 - accuracy: 1.0000\n",
            "Epoch 7/150\n",
            "37/37 [==============================] - 0s 2ms/step - loss: 3.9826e-04 - accuracy: 1.0000\n",
            "Epoch 8/150\n",
            "37/37 [==============================] - 0s 2ms/step - loss: 3.0399e-04 - accuracy: 1.0000\n",
            "Epoch 9/150\n",
            "37/37 [==============================] - 0s 3ms/step - loss: 2.4128e-04 - accuracy: 1.0000\n",
            "Epoch 10/150\n",
            "37/37 [==============================] - 0s 2ms/step - loss: 1.9772e-04 - accuracy: 1.0000\n",
            "Epoch 11/150\n",
            "37/37 [==============================] - 0s 2ms/step - loss: 1.6153e-04 - accuracy: 1.0000\n",
            "Epoch 12/150\n",
            "37/37 [==============================] - 0s 2ms/step - loss: 1.3117e-04 - accuracy: 1.0000\n",
            "Epoch 13/150\n",
            "37/37 [==============================] - 0s 2ms/step - loss: 1.0767e-04 - accuracy: 1.0000\n",
            "Epoch 14/150\n",
            "37/37 [==============================] - 0s 2ms/step - loss: 8.8330e-05 - accuracy: 1.0000\n",
            "Epoch 15/150\n",
            "37/37 [==============================] - 0s 2ms/step - loss: 7.3657e-05 - accuracy: 1.0000\n",
            "Epoch 16/150\n",
            "37/37 [==============================] - 0s 2ms/step - loss: 6.2577e-05 - accuracy: 1.0000\n",
            "Epoch 17/150\n",
            "37/37 [==============================] - 0s 2ms/step - loss: 5.4616e-05 - accuracy: 1.0000\n",
            "Epoch 18/150\n",
            "37/37 [==============================] - 0s 2ms/step - loss: 4.7868e-05 - accuracy: 1.0000\n",
            "Epoch 19/150\n",
            "37/37 [==============================] - 0s 3ms/step - loss: 4.2661e-05 - accuracy: 1.0000\n",
            "Epoch 20/150\n",
            "37/37 [==============================] - 0s 2ms/step - loss: 3.8213e-05 - accuracy: 1.0000\n",
            "Epoch 21/150\n",
            "37/37 [==============================] - 0s 2ms/step - loss: 3.4703e-05 - accuracy: 1.0000\n",
            "Epoch 22/150\n",
            "37/37 [==============================] - 0s 2ms/step - loss: 3.1635e-05 - accuracy: 1.0000\n",
            "Epoch 23/150\n",
            "37/37 [==============================] - 0s 2ms/step - loss: 2.8914e-05 - accuracy: 1.0000\n",
            "Epoch 24/150\n",
            "37/37 [==============================] - 0s 2ms/step - loss: 2.6667e-05 - accuracy: 1.0000\n",
            "Epoch 25/150\n",
            "37/37 [==============================] - 0s 2ms/step - loss: 2.4575e-05 - accuracy: 1.0000\n",
            "Epoch 26/150\n",
            "37/37 [==============================] - 0s 2ms/step - loss: 2.2869e-05 - accuracy: 1.0000\n",
            "Epoch 27/150\n",
            "37/37 [==============================] - 0s 2ms/step - loss: 2.1140e-05 - accuracy: 1.0000\n",
            "Epoch 28/150\n",
            "37/37 [==============================] - 0s 2ms/step - loss: 1.9708e-05 - accuracy: 1.0000\n",
            "Epoch 29/150\n",
            "37/37 [==============================] - 0s 3ms/step - loss: 1.8505e-05 - accuracy: 1.0000\n",
            "Epoch 30/150\n",
            "37/37 [==============================] - 0s 3ms/step - loss: 1.7249e-05 - accuracy: 1.0000\n",
            "Epoch 31/150\n",
            "37/37 [==============================] - 0s 2ms/step - loss: 1.6248e-05 - accuracy: 1.0000\n",
            "Epoch 32/150\n",
            "37/37 [==============================] - 0s 2ms/step - loss: 1.5268e-05 - accuracy: 1.0000\n",
            "Epoch 33/150\n",
            "37/37 [==============================] - 0s 2ms/step - loss: 1.4371e-05 - accuracy: 1.0000\n",
            "Epoch 34/150\n",
            "37/37 [==============================] - 0s 2ms/step - loss: 1.3540e-05 - accuracy: 1.0000\n",
            "Epoch 35/150\n",
            "37/37 [==============================] - 0s 2ms/step - loss: 1.2861e-05 - accuracy: 1.0000\n",
            "Epoch 36/150\n",
            "37/37 [==============================] - 0s 2ms/step - loss: 1.2149e-05 - accuracy: 1.0000\n",
            "Epoch 37/150\n",
            "37/37 [==============================] - 0s 2ms/step - loss: 1.1498e-05 - accuracy: 1.0000\n",
            "Epoch 38/150\n",
            "37/37 [==============================] - 0s 2ms/step - loss: 1.0871e-05 - accuracy: 1.0000\n",
            "Epoch 39/150\n",
            "37/37 [==============================] - 0s 2ms/step - loss: 1.0319e-05 - accuracy: 1.0000\n",
            "Epoch 40/150\n",
            "37/37 [==============================] - 0s 3ms/step - loss: 9.8231e-06 - accuracy: 1.0000\n",
            "Epoch 41/150\n",
            "37/37 [==============================] - 0s 2ms/step - loss: 9.3341e-06 - accuracy: 1.0000\n",
            "Epoch 42/150\n",
            "37/37 [==============================] - 0s 2ms/step - loss: 8.9015e-06 - accuracy: 1.0000\n",
            "Epoch 43/150\n",
            "37/37 [==============================] - 0s 2ms/step - loss: 8.4598e-06 - accuracy: 1.0000\n",
            "Epoch 44/150\n",
            "37/37 [==============================] - 0s 2ms/step - loss: 8.0378e-06 - accuracy: 1.0000\n",
            "Epoch 45/150\n",
            "37/37 [==============================] - 0s 3ms/step - loss: 7.6701e-06 - accuracy: 1.0000\n",
            "Epoch 46/150\n",
            "37/37 [==============================] - 0s 2ms/step - loss: 7.3170e-06 - accuracy: 1.0000\n",
            "Epoch 47/150\n",
            "37/37 [==============================] - 0s 2ms/step - loss: 6.9860e-06 - accuracy: 1.0000\n",
            "Epoch 48/150\n",
            "37/37 [==============================] - 0s 2ms/step - loss: 6.6832e-06 - accuracy: 1.0000\n",
            "Epoch 49/150\n",
            "37/37 [==============================] - 0s 2ms/step - loss: 6.4210e-06 - accuracy: 1.0000\n",
            "Epoch 50/150\n",
            "37/37 [==============================] - 0s 3ms/step - loss: 6.1148e-06 - accuracy: 1.0000\n",
            "Epoch 51/150\n",
            "37/37 [==============================] - 0s 3ms/step - loss: 5.8557e-06 - accuracy: 1.0000\n",
            "Epoch 52/150\n",
            "37/37 [==============================] - 0s 2ms/step - loss: 5.6026e-06 - accuracy: 1.0000\n",
            "Epoch 53/150\n",
            "37/37 [==============================] - 0s 2ms/step - loss: 5.3796e-06 - accuracy: 1.0000\n",
            "Epoch 54/150\n",
            "37/37 [==============================] - 0s 3ms/step - loss: 5.1617e-06 - accuracy: 1.0000\n",
            "Epoch 55/150\n",
            "37/37 [==============================] - 0s 2ms/step - loss: 4.9508e-06 - accuracy: 1.0000\n",
            "Epoch 56/150\n",
            "37/37 [==============================] - 0s 3ms/step - loss: 4.7317e-06 - accuracy: 1.0000\n",
            "Epoch 57/150\n",
            "37/37 [==============================] - 0s 2ms/step - loss: 4.5367e-06 - accuracy: 1.0000\n",
            "Epoch 58/150\n",
            "37/37 [==============================] - 0s 2ms/step - loss: 4.3074e-06 - accuracy: 1.0000\n",
            "Epoch 59/150\n",
            "37/37 [==============================] - 0s 2ms/step - loss: 4.0836e-06 - accuracy: 1.0000\n",
            "Epoch 60/150\n",
            "37/37 [==============================] - 0s 2ms/step - loss: 3.8253e-06 - accuracy: 1.0000\n",
            "Epoch 61/150\n",
            "37/37 [==============================] - 0s 3ms/step - loss: 3.6485e-06 - accuracy: 1.0000\n",
            "Epoch 62/150\n",
            "37/37 [==============================] - 0s 2ms/step - loss: 3.4496e-06 - accuracy: 1.0000\n",
            "Epoch 63/150\n",
            "37/37 [==============================] - 0s 2ms/step - loss: 3.2839e-06 - accuracy: 1.0000\n",
            "Epoch 64/150\n",
            "37/37 [==============================] - 0s 2ms/step - loss: 3.1293e-06 - accuracy: 1.0000\n",
            "Epoch 65/150\n",
            "37/37 [==============================] - 0s 2ms/step - loss: 2.9961e-06 - accuracy: 1.0000\n",
            "Epoch 66/150\n",
            "37/37 [==============================] - 0s 2ms/step - loss: 2.8407e-06 - accuracy: 1.0000\n",
            "Epoch 67/150\n",
            "37/37 [==============================] - 0s 2ms/step - loss: 2.7208e-06 - accuracy: 1.0000\n",
            "Epoch 68/150\n",
            "37/37 [==============================] - 0s 2ms/step - loss: 2.5968e-06 - accuracy: 1.0000\n",
            "Epoch 69/150\n",
            "37/37 [==============================] - 0s 3ms/step - loss: 2.4847e-06 - accuracy: 1.0000\n",
            "Epoch 70/150\n",
            "37/37 [==============================] - 0s 2ms/step - loss: 2.3728e-06 - accuracy: 1.0000\n",
            "Epoch 71/150\n",
            "37/37 [==============================] - 0s 3ms/step - loss: 2.2784e-06 - accuracy: 1.0000\n",
            "Epoch 72/150\n",
            "37/37 [==============================] - 0s 2ms/step - loss: 2.1801e-06 - accuracy: 1.0000\n",
            "Epoch 73/150\n",
            "37/37 [==============================] - 0s 3ms/step - loss: 2.0883e-06 - accuracy: 1.0000\n",
            "Epoch 74/150\n",
            "37/37 [==============================] - 0s 2ms/step - loss: 2.0023e-06 - accuracy: 1.0000\n",
            "Epoch 75/150\n",
            "37/37 [==============================] - 0s 2ms/step - loss: 1.9166e-06 - accuracy: 1.0000\n",
            "Epoch 76/150\n",
            "37/37 [==============================] - 0s 3ms/step - loss: 1.8369e-06 - accuracy: 1.0000\n",
            "Epoch 77/150\n",
            "37/37 [==============================] - 0s 3ms/step - loss: 1.7705e-06 - accuracy: 1.0000\n",
            "Epoch 78/150\n",
            "37/37 [==============================] - 0s 2ms/step - loss: 1.6878e-06 - accuracy: 1.0000\n",
            "Epoch 79/150\n",
            "37/37 [==============================] - 0s 2ms/step - loss: 1.6247e-06 - accuracy: 1.0000\n",
            "Epoch 80/150\n",
            "37/37 [==============================] - 0s 2ms/step - loss: 1.5614e-06 - accuracy: 1.0000\n",
            "Epoch 81/150\n",
            "37/37 [==============================] - 0s 2ms/step - loss: 1.5068e-06 - accuracy: 1.0000\n",
            "Epoch 82/150\n",
            "37/37 [==============================] - 0s 3ms/step - loss: 1.4390e-06 - accuracy: 1.0000\n",
            "Epoch 83/150\n",
            "37/37 [==============================] - 0s 2ms/step - loss: 1.3850e-06 - accuracy: 1.0000\n",
            "Epoch 84/150\n",
            "37/37 [==============================] - 0s 2ms/step - loss: 1.3261e-06 - accuracy: 1.0000\n",
            "Epoch 85/150\n",
            "37/37 [==============================] - 0s 2ms/step - loss: 1.2777e-06 - accuracy: 1.0000\n",
            "Epoch 86/150\n",
            "37/37 [==============================] - 0s 2ms/step - loss: 1.2282e-06 - accuracy: 1.0000\n",
            "Epoch 87/150\n",
            "37/37 [==============================] - 0s 3ms/step - loss: 1.1789e-06 - accuracy: 1.0000\n",
            "Epoch 88/150\n",
            "37/37 [==============================] - 0s 2ms/step - loss: 1.1343e-06 - accuracy: 1.0000\n",
            "Epoch 89/150\n",
            "37/37 [==============================] - 0s 3ms/step - loss: 1.0927e-06 - accuracy: 1.0000\n",
            "Epoch 90/150\n",
            "37/37 [==============================] - 0s 3ms/step - loss: 1.0507e-06 - accuracy: 1.0000\n",
            "Epoch 91/150\n",
            "37/37 [==============================] - 0s 3ms/step - loss: 1.0143e-06 - accuracy: 1.0000\n",
            "Epoch 92/150\n",
            "37/37 [==============================] - 0s 3ms/step - loss: 9.7250e-07 - accuracy: 1.0000\n",
            "Epoch 93/150\n",
            "37/37 [==============================] - 0s 2ms/step - loss: 9.4021e-07 - accuracy: 1.0000\n",
            "Epoch 94/150\n",
            "37/37 [==============================] - 0s 2ms/step - loss: 8.9989e-07 - accuracy: 1.0000\n",
            "Epoch 95/150\n",
            "37/37 [==============================] - 0s 2ms/step - loss: 8.6603e-07 - accuracy: 1.0000\n",
            "Epoch 96/150\n",
            "37/37 [==============================] - 0s 2ms/step - loss: 8.3778e-07 - accuracy: 1.0000\n",
            "Epoch 97/150\n",
            "37/37 [==============================] - 0s 2ms/step - loss: 8.0305e-07 - accuracy: 1.0000\n",
            "Epoch 98/150\n",
            "37/37 [==============================] - 0s 3ms/step - loss: 7.7459e-07 - accuracy: 1.0000\n",
            "Epoch 99/150\n",
            "37/37 [==============================] - 0s 2ms/step - loss: 7.4600e-07 - accuracy: 1.0000\n",
            "Epoch 100/150\n",
            "37/37 [==============================] - 0s 2ms/step - loss: 7.1719e-07 - accuracy: 1.0000\n",
            "Epoch 101/150\n",
            "37/37 [==============================] - 0s 2ms/step - loss: 6.8923e-07 - accuracy: 1.0000\n",
            "Epoch 102/150\n",
            "37/37 [==============================] - 0s 3ms/step - loss: 6.6620e-07 - accuracy: 1.0000\n",
            "Epoch 103/150\n",
            "37/37 [==============================] - 0s 2ms/step - loss: 6.4296e-07 - accuracy: 1.0000\n",
            "Epoch 104/150\n",
            "37/37 [==============================] - 0s 2ms/step - loss: 6.2006e-07 - accuracy: 1.0000\n",
            "Epoch 105/150\n",
            "37/37 [==============================] - 0s 2ms/step - loss: 5.9711e-07 - accuracy: 1.0000\n",
            "Epoch 106/150\n",
            "37/37 [==============================] - 0s 2ms/step - loss: 5.7797e-07 - accuracy: 1.0000\n",
            "Epoch 107/150\n",
            "37/37 [==============================] - 0s 2ms/step - loss: 5.5810e-07 - accuracy: 1.0000\n",
            "Epoch 108/150\n",
            "37/37 [==============================] - 0s 2ms/step - loss: 5.3920e-07 - accuracy: 1.0000\n",
            "Epoch 109/150\n",
            "37/37 [==============================] - 0s 2ms/step - loss: 5.2284e-07 - accuracy: 1.0000\n",
            "Epoch 110/150\n",
            "37/37 [==============================] - 0s 2ms/step - loss: 5.0257e-07 - accuracy: 1.0000\n",
            "Epoch 111/150\n",
            "37/37 [==============================] - 0s 2ms/step - loss: 4.8725e-07 - accuracy: 1.0000\n",
            "Epoch 112/150\n",
            "37/37 [==============================] - 0s 2ms/step - loss: 4.6885e-07 - accuracy: 1.0000\n",
            "Epoch 113/150\n",
            "37/37 [==============================] - 0s 3ms/step - loss: 4.5302e-07 - accuracy: 1.0000\n",
            "Epoch 114/150\n",
            "37/37 [==============================] - 0s 2ms/step - loss: 4.3828e-07 - accuracy: 1.0000\n",
            "Epoch 115/150\n",
            "37/37 [==============================] - 0s 3ms/step - loss: 4.2320e-07 - accuracy: 1.0000\n",
            "Epoch 116/150\n",
            "37/37 [==============================] - 0s 2ms/step - loss: 4.1000e-07 - accuracy: 1.0000\n",
            "Epoch 117/150\n",
            "37/37 [==============================] - 0s 2ms/step - loss: 3.9688e-07 - accuracy: 1.0000\n",
            "Epoch 118/150\n",
            "37/37 [==============================] - 0s 3ms/step - loss: 3.8383e-07 - accuracy: 1.0000\n",
            "Epoch 119/150\n",
            "37/37 [==============================] - 0s 2ms/step - loss: 3.7251e-07 - accuracy: 1.0000\n",
            "Epoch 120/150\n",
            "37/37 [==============================] - 0s 2ms/step - loss: 3.5925e-07 - accuracy: 1.0000\n",
            "Epoch 121/150\n",
            "37/37 [==============================] - 0s 2ms/step - loss: 3.4857e-07 - accuracy: 1.0000\n",
            "Epoch 122/150\n",
            "37/37 [==============================] - 0s 2ms/step - loss: 3.3790e-07 - accuracy: 1.0000\n",
            "Epoch 123/150\n",
            "37/37 [==============================] - 0s 3ms/step - loss: 3.2669e-07 - accuracy: 1.0000\n",
            "Epoch 124/150\n",
            "37/37 [==============================] - 0s 2ms/step - loss: 3.1624e-07 - accuracy: 1.0000\n",
            "Epoch 125/150\n",
            "37/37 [==============================] - 0s 3ms/step - loss: 3.0625e-07 - accuracy: 1.0000\n",
            "Epoch 126/150\n",
            "37/37 [==============================] - 0s 3ms/step - loss: 2.9776e-07 - accuracy: 1.0000\n",
            "Epoch 127/150\n",
            "37/37 [==============================] - 0s 2ms/step - loss: 2.8793e-07 - accuracy: 1.0000\n",
            "Epoch 128/150\n",
            "37/37 [==============================] - 0s 2ms/step - loss: 2.8021e-07 - accuracy: 1.0000\n",
            "Epoch 129/150\n",
            "37/37 [==============================] - 0s 3ms/step - loss: 2.7047e-07 - accuracy: 1.0000\n",
            "Epoch 130/150\n",
            "37/37 [==============================] - 0s 2ms/step - loss: 2.6226e-07 - accuracy: 1.0000\n",
            "Epoch 131/150\n",
            "37/37 [==============================] - 0s 2ms/step - loss: 2.5403e-07 - accuracy: 1.0000\n",
            "Epoch 132/150\n",
            "37/37 [==============================] - 0s 2ms/step - loss: 2.4591e-07 - accuracy: 1.0000\n",
            "Epoch 133/150\n",
            "37/37 [==============================] - 0s 3ms/step - loss: 2.3866e-07 - accuracy: 1.0000\n",
            "Epoch 134/150\n",
            "37/37 [==============================] - 0s 2ms/step - loss: 2.3199e-07 - accuracy: 1.0000\n",
            "Epoch 135/150\n",
            "37/37 [==============================] - 0s 2ms/step - loss: 2.2533e-07 - accuracy: 1.0000\n",
            "Epoch 136/150\n",
            "37/37 [==============================] - 0s 2ms/step - loss: 2.1849e-07 - accuracy: 1.0000\n",
            "Epoch 137/150\n",
            "37/37 [==============================] - 0s 3ms/step - loss: 2.1177e-07 - accuracy: 1.0000\n",
            "Epoch 138/150\n",
            "37/37 [==============================] - 0s 2ms/step - loss: 2.0616e-07 - accuracy: 1.0000\n",
            "Epoch 139/150\n",
            "37/37 [==============================] - 0s 2ms/step - loss: 2.0002e-07 - accuracy: 1.0000\n",
            "Epoch 140/150\n",
            "37/37 [==============================] - 0s 3ms/step - loss: 1.9427e-07 - accuracy: 1.0000\n",
            "Epoch 141/150\n",
            "37/37 [==============================] - 0s 3ms/step - loss: 1.8861e-07 - accuracy: 1.0000\n",
            "Epoch 142/150\n",
            "37/37 [==============================] - 0s 2ms/step - loss: 1.8297e-07 - accuracy: 1.0000\n",
            "Epoch 143/150\n",
            "37/37 [==============================] - 0s 2ms/step - loss: 1.7766e-07 - accuracy: 1.0000\n",
            "Epoch 144/150\n",
            "37/37 [==============================] - 0s 3ms/step - loss: 1.7302e-07 - accuracy: 1.0000\n",
            "Epoch 145/150\n",
            "37/37 [==============================] - 0s 3ms/step - loss: 1.6768e-07 - accuracy: 1.0000\n",
            "Epoch 146/150\n",
            "37/37 [==============================] - 0s 2ms/step - loss: 1.6301e-07 - accuracy: 1.0000\n",
            "Epoch 147/150\n",
            "37/37 [==============================] - 0s 2ms/step - loss: 1.5894e-07 - accuracy: 1.0000\n",
            "Epoch 148/150\n",
            "37/37 [==============================] - 0s 2ms/step - loss: 1.5392e-07 - accuracy: 1.0000\n",
            "Epoch 149/150\n",
            "37/37 [==============================] - 0s 2ms/step - loss: 1.5006e-07 - accuracy: 1.0000\n",
            "Epoch 150/150\n",
            "37/37 [==============================] - 0s 2ms/step - loss: 1.4572e-07 - accuracy: 1.0000\n"
          ],
          "name": "stdout"
        },
        {
          "output_type": "execute_result",
          "data": {
            "text/plain": [
              "<tensorflow.python.keras.callbacks.History at 0x7f773a2d8a58>"
            ]
          },
          "metadata": {
            "tags": []
          },
          "execution_count": 35
        }
      ]
    },
    {
      "cell_type": "code",
      "metadata": {
        "id": "PPEkTvlge4md",
        "colab_type": "code",
        "colab": {}
      },
      "source": [
        "\"\"\" here prediction was made on the testset,\n",
        "since the output of a sigmoid function lies between 0 and 1.\n",
        "the values neeeded to be rounded to a whole number\"\"\"\n",
        "predictions = list(np.round(model.predict(test_data).flatten()).astype(np.int))"
      ],
      "execution_count": 36,
      "outputs": []
    },
    {
      "cell_type": "code",
      "metadata": {
        "id": "YFwV9Q69hf-c",
        "colab_type": "code",
        "colab": {
          "base_uri": "https://localhost:8080/",
          "height": 53
        },
        "outputId": "3d4288f6-c5d1-4a79-bf34-8551dab241ff"
      },
      "source": [
        "print(predictions)"
      ],
      "execution_count": 37,
      "outputs": [
        {
          "output_type": "stream",
          "text": [
            "[1, 1, 0, 0, 0, 1, 1, 0, 1, 1, 0, 1, 0, 1, 0, 0, 0, 1, 0, 1, 1, 1, 0, 0, 0, 1, 0, 0, 1, 1, 1, 1, 0, 0, 0, 1, 1, 0, 0, 1, 1, 0, 1, 0, 1, 1, 1, 1, 0, 0, 1, 0, 1, 0, 1, 1, 1, 0, 0, 0, 0, 0, 0, 0, 0, 0, 1, 0, 0, 0, 1, 0, 0, 0, 0, 0, 0, 1, 1, 0, 1, 0, 0, 1, 1, 0, 0, 0, 1, 1, 1, 0, 1, 0, 0, 1, 0, 0, 0, 1, 1, 0, 1, 0, 0, 1, 0, 1, 1, 1, 0, 1, 0, 0, 1, 0, 0, 0, 0, 1, 1, 0, 0, 1, 1, 1, 0, 1, 1, 0, 1, 0, 0, 0, 1, 0, 0, 0, 0, 1, 1, 1, 1, 0, 0, 1, 1, 1, 0, 0, 0, 1, 0, 1, 0, 0, 0, 1, 1, 1, 1, 1, 1, 1, 0, 1, 1, 0, 0, 0, 0, 1, 1, 0, 1, 0, 0, 1, 1, 0, 0, 0, 0, 0, 1, 0, 1, 0, 1, 1, 0, 1, 0, 0, 0, 1, 0, 1, 1, 0, 0, 1, 0, 0, 1, 0, 0, 1, 0, 1, 1, 1, 0, 1, 0, 1, 1, 0, 0, 0, 1, 0, 1, 1, 0, 0, 0, 1, 0, 0, 0, 0, 1, 1, 0, 1, 0, 0, 0, 0, 0, 0, 0, 1, 0, 0, 1, 0, 1, 1, 0, 1, 0, 1, 1, 1, 1, 0, 0, 0, 1, 1, 0, 0, 1, 0, 0, 0, 0, 1, 1, 0, 0, 0, 0]\n"
          ],
          "name": "stdout"
        }
      ]
    },
    {
      "cell_type": "code",
      "metadata": {
        "id": "7nSxT_VrSXaI",
        "colab_type": "code",
        "colab": {}
      },
      "source": [
        "result = pd.DataFrame(predictions)"
      ],
      "execution_count": 38,
      "outputs": []
    },
    {
      "cell_type": "code",
      "metadata": {
        "id": "KFtiKebeSjC9",
        "colab_type": "code",
        "colab": {}
      },
      "source": [
        "result.index = test_data.index\n",
        "result.columns = ['Predictions']\n",
        "result.to_csv(\"/content/drive/My Drive/Data science resources/dphipredictions.csv\")"
      ],
      "execution_count": 40,
      "outputs": []
    },
    {
      "cell_type": "code",
      "metadata": {
        "id": "e4TcvW9WTK_y",
        "colab_type": "code",
        "colab": {
          "base_uri": "https://localhost:8080/",
          "height": 191
        },
        "outputId": "9605f65d-bf18-4794-c772-736d126cd9f6"
      },
      "source": [
        "result.head()"
      ],
      "execution_count": 41,
      "outputs": [
        {
          "output_type": "execute_result",
          "data": {
            "text/html": [
              "<div>\n",
              "<style scoped>\n",
              "    .dataframe tbody tr th:only-of-type {\n",
              "        vertical-align: middle;\n",
              "    }\n",
              "\n",
              "    .dataframe tbody tr th {\n",
              "        vertical-align: top;\n",
              "    }\n",
              "\n",
              "    .dataframe thead th {\n",
              "        text-align: right;\n",
              "    }\n",
              "</style>\n",
              "<table border=\"1\" class=\"dataframe\">\n",
              "  <thead>\n",
              "    <tr style=\"text-align: right;\">\n",
              "      <th></th>\n",
              "      <th>Predictions</th>\n",
              "    </tr>\n",
              "  </thead>\n",
              "  <tbody>\n",
              "    <tr>\n",
              "      <th>0</th>\n",
              "      <td>1</td>\n",
              "    </tr>\n",
              "    <tr>\n",
              "      <th>1</th>\n",
              "      <td>1</td>\n",
              "    </tr>\n",
              "    <tr>\n",
              "      <th>2</th>\n",
              "      <td>0</td>\n",
              "    </tr>\n",
              "    <tr>\n",
              "      <th>3</th>\n",
              "      <td>0</td>\n",
              "    </tr>\n",
              "    <tr>\n",
              "      <th>4</th>\n",
              "      <td>0</td>\n",
              "    </tr>\n",
              "  </tbody>\n",
              "</table>\n",
              "</div>"
            ],
            "text/plain": [
              "   Predictions\n",
              "0            1\n",
              "1            1\n",
              "2            0\n",
              "3            0\n",
              "4            0"
            ]
          },
          "metadata": {
            "tags": []
          },
          "execution_count": 41
        }
      ]
    },
    {
      "cell_type": "markdown",
      "metadata": {
        "id": "DbFrSwT5TQQj",
        "colab_type": "text"
      },
      "source": [
        "using this opportunity to appreciate the entire team at dphi for the quality teachings"
      ]
    }
  ]
}